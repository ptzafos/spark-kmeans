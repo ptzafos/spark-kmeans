{
 "cells": [
  {
   "cell_type": "code",
   "execution_count": 3,
   "metadata": {},
   "outputs": [],
   "source": [
    "#\n",
    "# Licensed to the Apache Software Foundation (ASF) under one or more\n",
    "# contributor license agreements.  See the NOTICE file distributed with\n",
    "# this work for additional information regarding copyright ownership.\n",
    "# The ASF licenses this file to You under the Apache License, Version 2.0\n",
    "# (the \"License\"); you may not use this file except in compliance with\n",
    "# the License.  You may obtain a copy of the License at\n",
    "#\n",
    "#    http://www.apache.org/licenses/LICENSE-2.0\n",
    "#\n",
    "# Unless required by applicable law or agreed to in writing, software\n",
    "# distributed under the License is distributed on an \"AS IS\" BASIS,\n",
    "# WITHOUT WARRANTIES OR CONDITIONS OF ANY KIND, either express or implied.\n",
    "# See the License for the specific language governing permissions and\n",
    "# limitations under the License.\n",
    "#\n",
    "\n",
    "\"\"\"\n",
    "The K-means algorithm written from scratch against PySpark. In practice,\n",
    "one may prefer to use the KMeans algorithm in ML, as shown in\n",
    "examples/src/main/python/ml/kmeans_example.py.\n",
    "\n",
    "This example requires NumPy (http://www.numpy.org/).\n",
    "\"\"\"\n",
    "from __future__ import print_function\n",
    "\n",
    "import sys\n",
    "\n",
    "import numpy as np\n",
    "import matplotlib.pyplot as plt\n",
    "import time\n",
    "from pyspark.sql import SparkSession"
   ]
  },
  {
   "cell_type": "code",
   "execution_count": 4,
   "metadata": {},
   "outputs": [],
   "source": [
    "def parseVector(line):\n",
    "    return np.array([float(x) for x in line.split(',')])\n",
    "\n",
    "def closestPoint(p, centers):\n",
    "    bestIndex = 0\n",
    "    closest = float(\"+inf\")\n",
    "    for i in range(len(centers)):\n",
    "#         tempDist = np.sum(np.abs((p - centers[i])))\n",
    "        tempDist = np.sum((p - centers[i]) ** 2)\n",
    "        #Manhattan distance\n",
    "#         tempDist = np.sum((p - centers[i]))\n",
    "        if tempDist < closest:\n",
    "            closest = tempDist\n",
    "            bestIndex = i\n",
    "    return bestIndex\n",
    "\n",
    "def compute_error(p, centers):\n",
    "    center = centers[closestPoint(p,centers)]\n",
    "    return np.sqrt(sum([x**2 for x in (p - center)]))\n",
    "    "
   ]
  },
  {
   "cell_type": "code",
   "execution_count": 10,
   "metadata": {},
   "outputs": [
    {
     "name": "stdout",
     "output_type": "stream",
     "text": [
      "5 - WSSE =  15648.449341434953\n",
      "Final centers: [array([12.92550511, 12.92609311, 13.05086953, 13.06478827, 12.95952726]), array([92.46972701, 92.58677669, 92.59040945, 92.44669281, 92.50228411]), array([62.32361861, 62.41631507, 61.59984955, 61.79737251, 62.59567113]), array([63.32195423, 62.59202083, 63.63253934, 62.94940296, 62.15941378]), array([42.45107088, 42.4231738 , 42.47692289, 42.36447847, 42.55460758])]\n"
     ]
    }
   ],
   "source": [
    "spark = SparkSession\\\n",
    "    .builder\\\n",
    "    .appName(\"PythonKMeans\")\\\n",
    "    .getOrCreate()\n",
    "\n",
    "lines = spark.read.text('vsmallpointdata2018.txt').rdd.map(lambda r: r[0])\n",
    "# lines.takeSample(True, 100000, seed=int(datetime.timestamp(datetime.now())))\n",
    "start_time = time.time()\n",
    "data = lines.map(parseVector).cache()\n",
    "convergeDist = 0.0001\n",
    "tempDist = 1.0\n",
    "i = 0\n",
    "K = 5\n",
    "kPoints = data.takeSample(False, K, int(time.time()))\n",
    "while tempDist > convergeDist:\n",
    "    closest = data.map(lambda p: (closestPoint(p, kPoints), (p, 1)))\n",
    "    pointStats = closest.reduceByKey(lambda p1_c1, p2_c2:\n",
    "                                     (p1_c1[0] + p2_c2[0], p1_c1[1] + p2_c2[1]))\n",
    "    newPoints = pointStats.map(lambda st: (st[0], st[1][0] / st[1][1])).collect()\n",
    "    tempDist = sum(np.sum((kPoints[iK] - p) ** 2) for (iK, p) in newPoints)\n",
    "    ##updates new points coordinates\n",
    "    for (iK, p) in newPoints:\n",
    "        kPoints[iK] = p\n",
    "WSSSE = data.map(lambda point: compute_error(point, kPoints)).reduce(lambda x, y: x + y)\n",
    "elapsed_time = time.time() - start_time\n",
    "with open(\"test.txt\", \"a\") as myfile:\n",
    "    myfile.write(\"appended text\\n\")\n",
    "print(K, \"- WSSE = \", WSSSE)\n",
    "print(\"Final centers: \" + str(kPoints))\n",
    "spark.stop()"
   ]
  },
  {
   "cell_type": "code",
   "execution_count": null,
   "metadata": {},
   "outputs": [],
   "source": []
  }
 ],
 "metadata": {
  "kernelspec": {
   "display_name": "Python 3",
   "language": "python",
   "name": "python3"
  },
  "language_info": {
   "codemirror_mode": {
    "name": "ipython",
    "version": 3
   },
   "file_extension": ".py",
   "mimetype": "text/x-python",
   "name": "python",
   "nbconvert_exporter": "python",
   "pygments_lexer": "ipython3",
   "version": "3.6.5"
  }
 },
 "nbformat": 4,
 "nbformat_minor": 2
}
