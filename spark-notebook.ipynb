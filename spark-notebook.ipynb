{
 "cells": [
  {
   "cell_type": "code",
   "execution_count": 53,
   "metadata": {},
   "outputs": [],
   "source": [
    "#\n",
    "# Licensed to the Apache Software Foundation (ASF) under one or more\n",
    "# contributor license agreements.  See the NOTICE file distributed with\n",
    "# this work for additional information regarding copyright ownership.\n",
    "# The ASF licenses this file to You under the Apache License, Version 2.0\n",
    "# (the \"License\"); you may not use this file except in compliance with\n",
    "# the License.  You may obtain a copy of the License at\n",
    "#\n",
    "#    http://www.apache.org/licenses/LICENSE-2.0\n",
    "#\n",
    "# Unless required by applicable law or agreed to in writing, software\n",
    "# distributed under the License is distributed on an \"AS IS\" BASIS,\n",
    "# WITHOUT WARRANTIES OR CONDITIONS OF ANY KIND, either express or implied.\n",
    "# See the License for the specific language governing permissions and\n",
    "# limitations under the License.\n",
    "#\n",
    "\n",
    "\"\"\"\n",
    "The K-means algorithm written from scratch against PySpark. In practice,\n",
    "one may prefer to use the KMeans algorithm in ML, as shown in\n",
    "examples/src/main/python/ml/kmeans_example.py.\n",
    "\n",
    "This example requires NumPy (http://www.numpy.org/).\n",
    "\"\"\"\n",
    "from __future__ import print_function\n",
    "\n",
    "import sys\n",
    "\n",
    "import numpy as np\n",
    "from datetime import datetime\n",
    "import matplotlib.pyplot as plt\n",
    "from pyspark.sql import SparkSession"
   ]
  },
  {
   "cell_type": "code",
   "execution_count": 46,
   "metadata": {},
   "outputs": [],
   "source": [
    "def parseVector(line):\n",
    "    return np.array([float(x) for x in line.split(',')])\n",
    "\n",
    "\n",
    "def closestPoint(p, centers):\n",
    "    bestIndex = 0\n",
    "    closest = float(\"+inf\")\n",
    "    for i in range(len(centers)):\n",
    "        tempDist = np.sum((p - centers[i]) ** 2)\n",
    "        #Manhattan distance\n",
    "#         tempDist = np.sum((p - centers[i]))\n",
    "        if tempDist < closest:\n",
    "            closest = tempDist\n",
    "            bestIndex = i\n",
    "    return bestIndex\n",
    "\n",
    "def compute_error(p, centers):\n",
    "    center = centers[closestPoint(p,centers)]\n",
    "    return np.sqrt(sum([x**2 for x in (p - center)]))\n",
    "    "
   ]
  },
  {
   "cell_type": "code",
   "execution_count": 65,
   "metadata": {},
   "outputs": [
    {
     "name": "stdout",
     "output_type": "stream",
     "text": [
      "2 - WSSE =  30597570.952287134\n",
      "3 - WSSE =  32083856.842496645\n",
      "4 - WSSE =  31757608.397977192\n",
      "5 - WSSE =  24497753.460582923\n",
      "6 - WSSE =  17106421.182754103\n",
      "7 - WSSE =  4087179.055760413\n",
      "8 - WSSE =  10584115.117930831\n",
      "9 - WSSE =  10087469.351771986\n",
      "Final centers: [array([84.12849522, 82.43162084, 81.61007623, 84.4843015 , 83.7819654 ]), array([61.18044077, 60.13089088, 61.55094828, 60.68988467, 63.19990697]), array([23.52219619, 23.66012527, 21.80532119, 20.930697  , 20.39620795]), array([64.48741414, 60.32721714, 63.98971968, 64.16150006, 64.42192917]), array([101.17154958, 100.26157865, 102.44576573, 103.87307861,\n",
      "       102.76917126]), array([20.33637888, 21.8711501 , 23.80843601, 22.99236541, 20.69850063]), array([1.96526804, 4.27206202, 1.70463761, 2.94959142, 2.09581472]), array([4.69670328, 2.40767319, 3.71218454, 4.29514969, 4.23309907]), array([24.19420797, 24.72093998, 20.40776048, 24.88246307, 21.4746588 ])]\n"
     ]
    },
    {
     "data": {
      "image/png": "[encoded data removed]",
      "text/plain": [
       "<Figure size 432x288 with 1 Axes>"
      ]
     },
     "metadata": {},
     "output_type": "display_data"
    }
   ],
   "source": [
    "spark = SparkSession\\\n",
    "    .builder\\\n",
    "    .appName(\"PythonKMeans\")\\\n",
    "    .getOrCreate()\n",
    "\n",
    "lines = spark.read.text('smallpointdata2018.txt').rdd.map(lambda r: r[0])\n",
    "# lines.takeSample(True, 100000, seed=int(datetime.timestamp(datetime.now())))\n",
    "\n",
    "data = lines.map(parseVector).cache()\n",
    "convergeDist = 0.0001\n",
    "tempDist = 1.0\n",
    "i = 0\n",
    "sse_list = list()\n",
    "for K in range(2,10):\n",
    "    kPoints = data.takeSample(False, K, int(datetime.timestamp(datetime.now())))\n",
    "    while tempDist > convergeDist:\n",
    "        closest = data.map(lambda p: (closestPoint(p, kPoints), (p, 1)))\n",
    "        pointStats = closest.reduceByKey(lambda p1_c1, p2_c2:\n",
    "                                         (p1_c1[0] + p2_c2[0], p1_c1[1] + p2_c2[1]))\n",
    "        newPoints = pointStats.map(lambda st: (st[0], st[1][0] / st[1][1])).collect()\n",
    "        tempDist = sum(np.sum((kPoints[iK] - p) ** 2) for (iK, p) in newPoints)\n",
    "        ##updates new points coordinates\n",
    "        for (iK, p) in newPoints:\n",
    "            kPoints[iK] = p\n",
    "    WSSSE = data.map(lambda point: compute_error(point, kPoints)).reduce(lambda x, y: x + y)\n",
    "    sse_list.append(WSSSE)\n",
    "    print(K, \"- WSSE = \", WSSSE)\n",
    "print(\"Final centers: \" + str(kPoints))\n",
    "sse_vector = np.array(sse_list)\n",
    "plt.plot(sse_vector)\n",
    "plt.show()\n",
    "spark.stop()"
   ]
  },
  {
   "cell_type": "code",
   "execution_count": null,
   "metadata": {},
   "outputs": [],
   "source": []
  }
 ],
 "metadata": {
  "kernelspec": {
   "display_name": "Python 3",
   "language": "python",
   "name": "python3"
  },
  "language_info": {
   "codemirror_mode": {
    "name": "ipython",
    "version": 3
   },
   "file_extension": ".py",
   "mimetype": "text/x-python",
   "name": "python",
   "nbconvert_exporter": "python",
   "pygments_lexer": "ipython3",
   "version": "3.6.5"
  }
 },
 "nbformat": 4,
 "nbformat_minor": 2
}
