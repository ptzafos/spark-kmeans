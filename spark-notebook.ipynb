{
 "cells": [
  {
   "cell_type": "code",
   "execution_count": 14,
   "metadata": {},
   "outputs": [],
   "source": [
    "#\n",
    "# Licensed to the Apache Software Foundation (ASF) under one or more\n",
    "# contributor license agreements.  See the NOTICE file distributed with\n",
    "# this work for additional information regarding copyright ownership.\n",
    "# The ASF licenses this file to You under the Apache License, Version 2.0\n",
    "# (the \"License\"); you may not use this file except in compliance with\n",
    "# the License.  You may obtain a copy of the License at\n",
    "#\n",
    "#    http://www.apache.org/licenses/LICENSE-2.0\n",
    "#\n",
    "# Unless required by applicable law or agreed to in writing, software\n",
    "# distributed under the License is distributed on an \"AS IS\" BASIS,\n",
    "# WITHOUT WARRANTIES OR CONDITIONS OF ANY KIND, either express or implied.\n",
    "# See the License for the specific language governing permissions and\n",
    "# limitations under the License.\n",
    "#\n",
    "\n",
    "\"\"\"\n",
    "The K-means algorithm written from scratch against PySpark. In practice,\n",
    "one may prefer to use the KMeans algorithm in ML, as shown in\n",
    "examples/src/main/python/ml/kmeans_example.py.\n",
    "\n",
    "This example requires NumPy (http://www.numpy.org/).\n",
    "\"\"\"\n",
    "from __future__ import print_function\n",
    "\n",
    "import sys\n",
    "\n",
    "import numpy as np\n",
    "from datetime import datetime\n",
    "from pyspark.sql import SparkSession"
   ]
  },
  {
   "cell_type": "code",
   "execution_count": 3,
   "metadata": {},
   "outputs": [],
   "source": [
    "def parseVector(line):\n",
    "    return np.array([float(x) for x in line.split(',')])\n",
    "\n",
    "\n",
    "def closestPoint(p, centers):\n",
    "    bestIndex = 0\n",
    "    closest = float(\"+inf\")\n",
    "    for i in range(len(centers)):\n",
    "        tempDist = np.sum((p - centers[i]) ** 2)\n",
    "        if tempDist < closest:\n",
    "            closest = tempDist\n",
    "            bestIndex = i\n",
    "    return bestIndex"
   ]
  },
  {
   "cell_type": "code",
   "execution_count": 24,
   "metadata": {},
   "outputs": [
    {
     "name": "stdout",
     "output_type": "stream",
     "text": [
      "[array([101.6641916 , 101.61331392, 104.24230268, 104.81470621,\n",
      "       101.85639535]), array([63.28653276, 62.85648073, 61.4991053 , 60.38797759, 62.36608266]), array([62.34458697, 64.05572803, 61.89781377, 62.00375749, 64.69842699]), array([2.67201326, 4.74148347, 5.17001341, 3.57540109, 2.24477869])]\n",
      "(3, (array([4317.11870508, 4317.31509828, 4358.99042373, 4363.63928187,\n",
      "       4328.48210604]), 334))\n",
      "(3, (array([4317.11870508, 4317.31509828, 4358.99042373, 4363.63928187,\n",
      "       4328.48210604]), 334))\n",
      "(3, (array([4317.11870508, 4317.31509828, 4358.99042373, 4363.63928187,\n",
      "       4328.48210604]), 334))\n",
      "(3, (array([4317.11870508, 4317.31509828, 4358.99042373, 4363.63928187,\n",
      "       4328.48210604]), 334))\n",
      "Final centers: [array([102.57345288, 102.68358449, 102.61150623, 102.19693767,\n",
      "       102.54354406]), array([52.61451094, 52.45972538, 52.50091443, 52.34306416, 52.47587122]), array([82.36600114, 82.48996889, 82.56931268, 82.69644794, 82.46102416]), array([12.92550511, 12.92609311, 13.05086953, 13.06478827, 12.95952726])]\n"
     ]
    }
   ],
   "source": [
    "spark = SparkSession\\\n",
    "    .builder\\\n",
    "    .appName(\"PythonKMeans\")\\\n",
    "    .getOrCreate()\n",
    "\n",
    "lines = spark.read.text('smallpointdata2018.txt').rdd.map(lambda r: r[0])\n",
    "data = lines.map(parseVector).cache()\n",
    "K = 4\n",
    "convergeDist = 0.01\n",
    "kPoints = data.takeSample(False, K, int(datetime.timestamp(datetime.now())))\n",
    "print(kPoints)\n",
    "tempDist = 1.0\n",
    "\n",
    "while tempDist > convergeDist:\n",
    "    closest = data.map(lambda p: (closestPoint(p, kPoints), (p, 1)))\n",
    "    pointStats = closest.reduceByKey(lambda p1_c1, p2_c2:\n",
    "                                     (p1_c1[0] + p2_c2[0], p1_c1[1] + p2_c2[1]))\n",
    "    print(pointStats.collect()[0])\n",
    "    newPoints = pointStats.map(lambda st: (st[0], st[1][0] / st[1][1])).collect()\n",
    "\n",
    "    tempDist = sum(np.sum((kPoints[iK] - p) ** 2) for (iK, p) in newPoints)\n",
    "\n",
    "    for (iK, p) in newPoints:\n",
    "        kPoints[iK] = p\n",
    "\n",
    "print(\"Final centers: \" + str(kPoints))\n",
    "\n",
    "spark.stop()"
   ]
  },
  {
   "cell_type": "code",
   "execution_count": null,
   "metadata": {},
   "outputs": [],
   "source": []
  }
 ],
 "metadata": {
  "kernelspec": {
   "display_name": "Python 3",
   "language": "python",
   "name": "python3"
  },
  "language_info": {
   "codemirror_mode": {
    "name": "ipython",
    "version": 3
   },
   "file_extension": ".py",
   "mimetype": "text/x-python",
   "name": "python",
   "nbconvert_exporter": "python",
   "pygments_lexer": "ipython3",
   "version": "3.6.5"
  }
 },
 "nbformat": 4,
 "nbformat_minor": 2
}
